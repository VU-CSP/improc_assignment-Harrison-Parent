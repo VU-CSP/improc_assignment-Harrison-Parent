{
  "nbformat": 4,
  "nbformat_minor": 0,
  "metadata": {
    "colab": {
      "provenance": [],
      "mount_file_id": "111Vx5ARLHOiOs3qrj1eH4W1py-2AU6Zc",
      "authorship_tag": "ABX9TyM0RJCUhh2XvENMv1+vT6qT",
      "include_colab_link": true
    },
    "kernelspec": {
      "name": "python3",
      "display_name": "Python 3"
    },
    "language_info": {
      "name": "python"
    }
  },
  "cells": [
    {
      "cell_type": "markdown",
      "metadata": {
        "id": "view-in-github",
        "colab_type": "text"
      },
      "source": [
        "<a href=\"https://colab.research.google.com/github/VU-CSP/improc_assignment-Harrison-Parent/blob/main/improc_assignment_HP.ipynb\" target=\"_parent\"><img src=\"https://colab.research.google.com/assets/colab-badge.svg\" alt=\"Open In Colab\"/></a>"
      ]
    },
    {
      "cell_type": "code",
      "execution_count": 1,
      "metadata": {
        "id": "69tmuC8AxSz4"
      },
      "outputs": [],
      "source": [
        "import pandas as pd\n",
        "import numpy as np\n",
        "import seaborn as sns"
      ]
    },
    {
      "cell_type": "code",
      "source": [
        "# Code to read Results and show head\n",
        "df1=pd.read_csv('/content/drive/MyDrive/Colab Notebooks/Results.csv')\n",
        "df2=df1.drop(' ', axis=1)\n",
        "df2.head\n",
        "#measurements = []"
      ],
      "metadata": {
        "colab": {
          "base_uri": "https://localhost:8080/"
        },
        "id": "7VDWtivCxaKL",
        "outputId": "1066eca2-b76f-4874-81fb-77002b0016dc"
      },
      "execution_count": 14,
      "outputs": [
        {
          "output_type": "execute_result",
          "data": {
            "text/plain": [
              "<bound method NDFrame.head of      Area  Mean\n",
              "0     364   255\n",
              "1     448   255\n",
              "2     363   255\n",
              "3     371   255\n",
              "4     394   255\n",
              "..    ...   ...\n",
              "957   473   255\n",
              "958   482   255\n",
              "959   298   255\n",
              "960   480   255\n",
              "961   357   255\n",
              "\n",
              "[962 rows x 2 columns]>"
            ]
          },
          "metadata": {},
          "execution_count": 14
        }
      ]
    },
    {
      "cell_type": "code",
      "source": [
        "# Code to plot a histogram of the Area\n",
        "sns.histplot(df2['Area'])"
      ],
      "metadata": {
        "colab": {
          "base_uri": "https://localhost:8080/",
          "height": 296
        },
        "id": "rBAqhJB1xdMn",
        "outputId": "f173e79d-8e13-48e5-ad86-84acd73a03a1"
      },
      "execution_count": 17,
      "outputs": [
        {
          "output_type": "execute_result",
          "data": {
            "text/plain": [
              "<AxesSubplot:xlabel='Area', ylabel='Count'>"
            ]
          },
          "metadata": {},
          "execution_count": 17
        },
        {
          "output_type": "display_data",
          "data": {
            "text/plain": [
              "<Figure size 432x288 with 1 Axes>"
            ],
            "image/png": "[encoded data removed]"
          },
          "metadata": {
            "needs_background": "light"
          }
        }
      ]
    },
    {
      "cell_type": "code",
      "source": [
        "# Calculate mean\n",
        "AreaMean=df2['Area'].mean()\n",
        "print('The Area Mean Value is: ' + str(AreaMean))"
      ],
      "metadata": {
        "colab": {
          "base_uri": "https://localhost:8080/"
        },
        "id": "Fq4YpR8hxfhx",
        "outputId": "0c782b3a-5987-457f-edea-51ee9edbf4c7"
      },
      "execution_count": 24,
      "outputs": [
        {
          "output_type": "stream",
          "name": "stdout",
          "text": [
            "The Area Mean Value is: 394.016632016632\n"
          ]
        }
      ]
    },
    {
      "cell_type": "code",
      "source": [
        "# Calculate standard deviation\n",
        "standarddeviation=df2['Area'].std()\n",
        "print('The Standard Deviation of the Area Values is: ' + str(standarddeviation))"
      ],
      "metadata": {
        "colab": {
          "base_uri": "https://localhost:8080/"
        },
        "id": "6y-YyYJixiHL",
        "outputId": "04eafbdb-899e-446a-ccce-abb4fc0438dc"
      },
      "execution_count": 26,
      "outputs": [
        {
          "output_type": "stream",
          "name": "stdout",
          "text": [
            "The Standard Deviation of the Area Values is: 62.0304860589988\n"
          ]
        }
      ]
    },
    {
      "cell_type": "markdown",
      "source": [
        "### Describe your interpretation of the distribution of the measurements of nuclear area below.\n",
        "\n",
        "Based on what you see, would you choose different value ranges of particle sizes for counting? Explain why."
      ],
      "metadata": {
        "id": "s_mtJGHhxkFo"
      }
    },
    {
      "cell_type": "markdown",
      "source": [
        "The variance is fairly high in this dataset of nuclear area, so I would decrease the range of particle sizes if I were to do the analysis again. I would increase the threshold to cut off the sizes below 300, which could consist of dead cells; this would also reduce the variance of the data set."
      ],
      "metadata": {
        "id": "9nBA3OESe19R"
      }
    }
  ]
}